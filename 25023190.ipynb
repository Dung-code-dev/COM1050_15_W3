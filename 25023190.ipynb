{
 "cells": [
  {
   "cell_type": "markdown",
   "id": "a96459ef-6b9d-42dc-9da0-5e82f2a63a79",
   "metadata": {},
   "source": [
    "### cách hoán đổi 2 giá trị a và b\n",
    "a=a^b\n",
    "b=a^b\n",
    "a=a^b"
   ]
  },
  {
   "cell_type": "markdown",
   "id": "b82b2e12-6aaa-41d2-bcde-8fcfedf0f058",
   "metadata": {},
   "source": [
    "Bài 1:"
   ]
  },
  {
   "cell_type": "code",
   "execution_count": 4,
   "id": "b0a1ead6-94f6-4124-9220-70a1ed699bb1",
   "metadata": {},
   "outputs": [
    {
     "name": "stdin",
     "output_type": "stream",
     "text": [
      " 6\n",
      " 7\n"
     ]
    },
    {
     "name": "stdout",
     "output_type": "stream",
     "text": [
      "6 7\n",
      "7 6\n"
     ]
    }
   ],
   "source": [
    "a= int(input())\n",
    "b= int(input())\n",
    "print(a,b)\n",
    "a,b=b,a\n",
    "print (a,b)"
   ]
  },
  {
   "cell_type": "markdown",
   "id": "69a3bc68-c798-4099-af31-dcab3e8ad0c5",
   "metadata": {},
   "source": [
    "Bài 2:"
   ]
  },
  {
   "cell_type": "code",
   "execution_count": 6,
   "id": "ad490d73-3fb0-43bb-a1ef-aae9ff8e2aa5",
   "metadata": {},
   "outputs": [
    {
     "name": "stdin",
     "output_type": "stream",
     "text": [
      " 128\n"
     ]
    },
    {
     "name": "stdout",
     "output_type": "stream",
     "text": [
      "128 là lũy thừa của 2\n"
     ]
    }
   ],
   "source": [
    "a = int(input())\n",
    "if a&(a-1)==0:\n",
    "    print(f\"{a} là lũy thừa của 2\")\n",
    "else:\n",
    "    print(f\"{a} không là lũy thừa của 2\")"
   ]
  },
  {
   "cell_type": "markdown",
   "id": "28f7b709-73d8-4bd1-b960-27d2489b97c8",
   "metadata": {},
   "source": [
    "Bài 3:"
   ]
  },
  {
   "cell_type": "code",
   "execution_count": 11,
   "id": "a7585243-a720-4d30-a636-3d74bf9a400a",
   "metadata": {},
   "outputs": [
    {
     "name": "stdin",
     "output_type": "stream",
     "text": [
      " 7\n",
      " 2\n"
     ]
    },
    {
     "name": "stdout",
     "output_type": "stream",
     "text": [
      "3\n"
     ]
    }
   ],
   "source": [
    "import math\n",
    "m = float(input())\n",
    "n = float(input())\n",
    "result = math.floor(m/n)\n",
    "print(result)"
   ]
  },
  {
   "cell_type": "markdown",
   "id": "cccf7ca6-6997-4ef4-ab0b-3d051594fa92",
   "metadata": {},
   "source": [
    "Bài 4:"
   ]
  },
  {
   "cell_type": "code",
   "execution_count": 12,
   "id": "97ae22d2-f1f7-492a-9e89-4758f6f0e526",
   "metadata": {},
   "outputs": [
    {
     "name": "stdin",
     "output_type": "stream",
     "text": [
      " 7\n",
      " 2\n"
     ]
    },
    {
     "name": "stdout",
     "output_type": "stream",
     "text": [
      "4\n"
     ]
    }
   ],
   "source": [
    "import math\n",
    "m = float(input())\n",
    "n = float(input())\n",
    "result = math.ceil(m/n)\n",
    "print(result)"
   ]
  },
  {
   "cell_type": "code",
   "execution_count": null,
   "id": "5a93d2a7-5685-450d-b020-45c03287eec9",
   "metadata": {},
   "outputs": [],
   "source": []
  }
 ],
 "metadata": {
  "kernelspec": {
   "display_name": "Python 3 (ipykernel)",
   "language": "python",
   "name": "python3"
  },
  "language_info": {
   "codemirror_mode": {
    "name": "ipython",
    "version": 3
   },
   "file_extension": ".py",
   "mimetype": "text/x-python",
   "name": "python",
   "nbconvert_exporter": "python",
   "pygments_lexer": "ipython3",
   "version": "3.13.5"
  }
 },
 "nbformat": 4,
 "nbformat_minor": 5
}
