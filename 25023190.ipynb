{
 "cells": [
  {
   "cell_type": "markdown",
   "id": "a96459ef-6b9d-42dc-9da0-5e82f2a63a79",
   "metadata": {},
   "source": [
    "### cách hoán đổi 2 giá trị a và b\n",
    "a=a^b\n",
    "b=a^b\n",
    "a=a^b"
   ]
  },
  {
   "cell_type": "markdown",
   "id": "b82b2e12-6aaa-41d2-bcde-8fcfedf0f058",
   "metadata": {},
   "source": [
    "### Bài 2:"
   ]
  },
  {
   "cell_type": "code",
   "execution_count": 4,
   "id": "b0a1ead6-94f6-4124-9220-70a1ed699bb1",
   "metadata": {},
   "outputs": [
    {
     "name": "stdin",
     "output_type": "stream",
     "text": [
      " 6\n",
      " 7\n"
     ]
    },
    {
     "name": "stdout",
     "output_type": "stream",
     "text": [
      "6 7\n",
      "7 6\n"
     ]
    }
   ],
   "source": [
    "a= int(input())\n",
    "b= int(input())\n",
    "print(a,b)\n",
    "a,b=b,a\n",
    "print (a,b)"
   ]
  },
  {
   "cell_type": "markdown",
   "id": "69a3bc68-c798-4099-af31-dcab3e8ad0c5",
   "metadata": {},
   "source": [
    "### Bài 3:"
   ]
  },
  {
   "cell_type": "code",
   "execution_count": 6,
   "id": "ad490d73-3fb0-43bb-a1ef-aae9ff8e2aa5",
   "metadata": {},
   "outputs": [
    {
     "name": "stdin",
     "output_type": "stream",
     "text": [
      " 128\n"
     ]
    },
    {
     "name": "stdout",
     "output_type": "stream",
     "text": [
      "128 là lũy thừa của 2\n"
     ]
    }
   ],
   "source": [
    "a = int(input())\n",
    "if a&(a-1)==0:\n",
    "    print(f\"{a} là lũy thừa của 2\")\n",
    "else:\n",
    "    print(f\"{a} không là lũy thừa của 2\")"
   ]
  },
  {
   "cell_type": "markdown",
   "id": "28f7b709-73d8-4bd1-b960-27d2489b97c8",
   "metadata": {},
   "source": [
    "### Bài 4:"
   ]
  },
  {
   "cell_type": "code",
   "execution_count": 11,
   "id": "a7585243-a720-4d30-a636-3d74bf9a400a",
   "metadata": {},
   "outputs": [
    {
     "name": "stdin",
     "output_type": "stream",
     "text": [
      " 7\n",
      " 2\n"
     ]
    },
    {
     "name": "stdout",
     "output_type": "stream",
     "text": [
      "3\n"
     ]
    }
   ],
   "source": [
    "import math\n",
    "m = float(input())\n",
    "n = float(input())\n",
    "result = math.floor(m/n)\n",
    "print(result)"
   ]
  },
  {
   "cell_type": "markdown",
   "id": "cccf7ca6-6997-4ef4-ab0b-3d051594fa92",
   "metadata": {},
   "source": [
    "### Bài 5:"
   ]
  },
  {
   "cell_type": "code",
   "execution_count": 12,
   "id": "97ae22d2-f1f7-492a-9e89-4758f6f0e526",
   "metadata": {},
   "outputs": [
    {
     "name": "stdin",
     "output_type": "stream",
     "text": [
      " 7\n",
      " 2\n"
     ]
    },
    {
     "name": "stdout",
     "output_type": "stream",
     "text": [
      "4\n"
     ]
    }
   ],
   "source": [
    "import math\n",
    "m = float(input())\n",
    "n = float(input())\n",
    "result = math.ceil(m/n)\n",
    "print(result)"
   ]
  },
  {
   "cell_type": "markdown",
   "id": "52a899d1-e2a9-4905-a540-327e02dccf71",
   "metadata": {},
   "source": [
    "### Bài 6:"
   ]
  },
  {
   "cell_type": "code",
   "execution_count": 15,
   "id": "67b28ad3-8c09-4216-b64c-950b0ea25b04",
   "metadata": {},
   "outputs": [
    {
     "name": "stdin",
     "output_type": "stream",
     "text": [
      " 2\n"
     ]
    },
    {
     "name": "stdout",
     "output_type": "stream",
     "text": [
      "Even\n"
     ]
    }
   ],
   "source": [
    "x= int(input())\n",
    "if (x%2==0):\n",
    "    print(f\"Even\")\n",
    "else:\n",
    "    print(f\"Odd\")"
   ]
  },
  {
   "cell_type": "markdown",
   "id": "df40e6cd-e00d-47f7-9598-6bad88d4108d",
   "metadata": {},
   "source": [
    "### Bài 7:"
   ]
  },
  {
   "cell_type": "code",
   "execution_count": 2,
   "id": "d009f274-58a0-44c1-85a2-1837a94074f7",
   "metadata": {},
   "outputs": [
    {
     "name": "stdin",
     "output_type": "stream",
     "text": [
      " -1\n",
      " -3\n"
     ]
    },
    {
     "name": "stdout",
     "output_type": "stream",
     "text": [
      "Yes\n"
     ]
    }
   ],
   "source": [
    "a = int(input())\n",
    "b = int(input())\n",
    "if (a<0) and (b<0):\n",
    "    print(f\"Yes\")\n",
    "else:\n",
    "    print(f\"No\")"
   ]
  },
  {
   "cell_type": "markdown",
   "id": "6bed7852-9031-4ce5-be8e-30cb49ddc11d",
   "metadata": {},
   "source": [
    "### Bài 8:"
   ]
  },
  {
   "cell_type": "code",
   "execution_count": 4,
   "id": "02c1ffef-65df-4b34-8edf-59ec68430916",
   "metadata": {},
   "outputs": [
    {
     "name": "stdin",
     "output_type": "stream",
     "text": [
      " âffdsf\n",
      " afa\n"
     ]
    },
    {
     "name": "stdout",
     "output_type": "stream",
     "text": [
      "True\n"
     ]
    }
   ],
   "source": [
    "a = input()\n",
    "b = input()\n",
    "if (len(a)>len(b)):\n",
    "    print(f\"True\")\n",
    "else:\n",
    "    print(f\"False\")"
   ]
  },
  {
   "cell_type": "markdown",
   "id": "9082e9f6-828c-47bf-8ab5-6990f3e68788",
   "metadata": {},
   "source": [
    "### Bài 9:"
   ]
  },
  {
   "cell_type": "code",
   "execution_count": 10,
   "id": "ca9b24de-fa6d-4105-8398-6245a88fb008",
   "metadata": {},
   "outputs": [
    {
     "name": "stdin",
     "output_type": "stream",
     "text": [
      " 1 1 0\n"
     ]
    },
    {
     "name": "stdout",
     "output_type": "stream",
     "text": [
      "NO\n"
     ]
    }
   ],
   "source": [
    "a,b,c = map(int,input().split())\n",
    "if (a>0) and (b>0) and (c>0):\n",
    "            if (a+b>c) and (a+c>b) and (b+c>a):\n",
    "                print(f\"YES\")\n",
    "            else:\n",
    "                print(f\"NO\")\n",
    "else:\n",
    "            print(f\"NO\")"
   ]
  },
  {
   "cell_type": "markdown",
   "id": "6c53fc60-11ac-4e2a-b190-4e4e751904d1",
   "metadata": {},
   "source": [
    "### Bài 10:"
   ]
  },
  {
   "cell_type": "code",
   "execution_count": 3,
   "id": "9a504a9a-ee3c-471b-b0e0-3487716a77b1",
   "metadata": {},
   "outputs": [
    {
     "name": "stdin",
     "output_type": "stream",
     "text": [
      " -1 -2 -3 -4\n"
     ]
    },
    {
     "name": "stdout",
     "output_type": "stream",
     "text": [
      "số lớn nhất -1\n"
     ]
    }
   ],
   "source": [
    "a,b,c,d = map(int,input().split())\n",
    "lon_nhat = max(a,b,c,d)\n",
    "print(f\"số lớn nhất {lon_nhat}\")"
   ]
  },
  {
   "cell_type": "markdown",
   "id": "a353daaa-a907-4ce7-a04e-5e4fa262eaf9",
   "metadata": {},
   "source": [
    "### Bài 11:"
   ]
  },
  {
   "cell_type": "code",
   "execution_count": 8,
   "id": "25ca9e88-31d0-4970-86b3-0e6c35f29ba3",
   "metadata": {},
   "outputs": [
    {
     "name": "stdin",
     "output_type": "stream",
     "text": [
      " 1 2 1\n"
     ]
    },
    {
     "name": "stdout",
     "output_type": "stream",
     "text": [
      "Không phải tam giác\n"
     ]
    }
   ],
   "source": [
    "a,b,c = map(int,input().split())\n",
    "if (a>0) and (b>0) and (c>0):\n",
    "    if (a+b>c) and (a+c>b) and (b+c>a):\n",
    "        if (a==b) and (b==c) and (c==a):\n",
    "            print(f\"Tam giác đều\")\n",
    "        elif (a==b) or (b==c) or (c==a):\n",
    "            print(f\"Tam giác cân\")\n",
    "        else: \n",
    "            print(f\"Tam giác thường\")\n",
    "    else: \n",
    "        print(f\"Không phải tam giác\")\n",
    "else:\n",
    "    print(f\"không phải tam giác\")"
   ]
  },
  {
   "cell_type": "markdown",
   "id": "0267c560-54cc-4ce9-bc1a-8a9014f89d3d",
   "metadata": {},
   "source": [
    "### Bài 12:"
   ]
  },
  {
   "cell_type": "code",
   "execution_count": 9,
   "id": "c900f60e-ba50-48b9-90be-2ce81504598e",
   "metadata": {},
   "outputs": [
    {
     "name": "stdin",
     "output_type": "stream",
     "text": [
      "Nhập vào năm 2024\n"
     ]
    },
    {
     "name": "stdout",
     "output_type": "stream",
     "text": [
      "Yes\n"
     ]
    }
   ],
   "source": [
    "yr = int(input(\"Nhập vào năm\"))\n",
    "if (yr>0):\n",
    "    dv = yr%400\n",
    "    if (yr%400==0) or (yr%4==0 and yr%100 !=0):\n",
    "        print(f\"Yes\")\n",
    "    else:\n",
    "        print(f\"No\")"
   ]
  },
  {
   "cell_type": "markdown",
   "id": "fa52f45a-ff68-47a4-8944-1e97f98d4f11",
   "metadata": {},
   "source": [
    "### Bài 14:"
   ]
  },
  {
   "cell_type": "code",
   "execution_count": 3,
   "id": "b30326db-ce6d-4f7d-b84f-66285454f48c",
   "metadata": {},
   "outputs": [
    {
     "name": "stdin",
     "output_type": "stream",
     "text": [
      "Nhập a,b 3 10\n"
     ]
    },
    {
     "name": "stdout",
     "output_type": "stream",
     "text": [
      "3.33\n"
     ]
    }
   ],
   "source": [
    "a,b = map(int,input(\"Nhập a,b\").split())\n",
    "if (a==0):\n",
    "    if b==0:\n",
    "        print(f\"Vô số nghiệm\")\n",
    "    else:\n",
    "        print(f\"Vô nghiệm\")\n",
    "else:\n",
    "    print(f\"{round(b/a,2)}\")"
   ]
  },
  {
   "cell_type": "code",
   "execution_count": 7,
   "id": "3aad5fd1-5b0e-45d1-8f42-762b96a4489b",
   "metadata": {},
   "outputs": [
    {
     "name": "stdin",
     "output_type": "stream",
     "text": [
      "nhập điểm 8.0\n"
     ]
    },
    {
     "name": "stdout",
     "output_type": "stream",
     "text": [
      "giỏi\n"
     ]
    }
   ],
   "source": [
    "mark = float(input(\"nhập điểm\"))\n",
    "if (mark<10) and (mark>=0):\n",
    "    if mark>=8.0:\n",
    "        print(f\"giỏi\")\n",
    "    elif mark >=6.5:\n",
    "        print(f\"khá\")\n",
    "    elif mark >=5.0:\n",
    "        print(f\"trung bình\")\n",
    "    else:\n",
    "        print(f\"yếu\")\n",
    "else:\n",
    "    print(f\"error\")"
   ]
  },
  {
   "cell_type": "markdown",
   "id": "f3e9230e-083b-4a0c-9228-34c8869fa1df",
   "metadata": {},
   "source": [
    "### Bài 16:"
   ]
  },
  {
   "cell_type": "code",
   "execution_count": 17,
   "id": "b4612a66-634e-415d-ad22-3db3448f1fe2",
   "metadata": {},
   "outputs": [
    {
     "name": "stdin",
     "output_type": "stream",
     "text": [
      "nhập số: -1.5\n"
     ]
    },
    {
     "name": "stdout",
     "output_type": "stream",
     "text": [
      "-2\n",
      "-1\n",
      "-2\n"
     ]
    }
   ],
   "source": [
    "a = float(input(\"nhập số:\"))\n",
    "if a>=0:\n",
    "    down = int(a)\n",
    "else: \n",
    "    down = int(a) - (a != int(a))\n",
    "if a>=0:\n",
    "    up = int(a) + (a != int(a))\n",
    "else:\n",
    "    up = int(a)\n",
    "phan_thap_phan = a -int(a)\n",
    "if a>=0:\n",
    "    roun = int(a) + (phan_thap_phan>=0.5)\n",
    "else:\n",
    "    roun = int(a) - (phan_thap_phan<=0.5)\n",
    "print(down)\n",
    "print(up)\n",
    "print(roun)"
   ]
  },
  {
   "cell_type": "markdown",
   "id": "dbb189f4-73a3-40e5-8e60-fd51b9eac356",
   "metadata": {},
   "source": [
    "### Bài 17:"
   ]
  },
  {
   "cell_type": "code",
   "execution_count": 20,
   "id": "5af5b18a-0bdc-4954-a946-2008413a6249",
   "metadata": {},
   "outputs": [
    {
     "name": "stdin",
     "output_type": "stream",
     "text": [
      " 2 4 8 16\n"
     ]
    },
    {
     "name": "stdout",
     "output_type": "stream",
     "text": [
      "cấp số nhân\n"
     ]
    }
   ],
   "source": [
    "a,b,c,d = map(int,input().split())\n",
    "if b%a==0:\n",
    "    cb= b//a\n",
    "    if (b*cb==c) and (c*cb==d):\n",
    "        print(f\"cấp số nhân\")\n",
    "    else: \n",
    "        print(f\"không là cấp số nhân\")\n",
    "else:\n",
    "    print(f\"không là cấp số nhân\")"
   ]
  },
  {
   "cell_type": "code",
   "execution_count": null,
   "id": "47e29f45-af1b-4236-bec8-7327dcf2f842",
   "metadata": {},
   "outputs": [],
   "source": []
  }
 ],
 "metadata": {
  "kernelspec": {
   "display_name": "Python 3 (ipykernel)",
   "language": "python",
   "name": "python3"
  },
  "language_info": {
   "codemirror_mode": {
    "name": "ipython",
    "version": 3
   },
   "file_extension": ".py",
   "mimetype": "text/x-python",
   "name": "python",
   "nbconvert_exporter": "python",
   "pygments_lexer": "ipython3",
   "version": "3.13.5"
  }
 },
 "nbformat": 4,
 "nbformat_minor": 5
}
