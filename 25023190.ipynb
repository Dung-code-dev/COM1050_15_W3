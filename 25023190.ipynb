{
 "cells": [
  {
   "cell_type": "markdown",
   "id": "a96459ef-6b9d-42dc-9da0-5e82f2a63a79",
   "metadata": {},
   "source": [
    "### cách hoán đổi 2 giá trị a và b\n",
    "a=a^b\n",
    "b=a^b\n",
    "a=a^b"
   ]
  },
  {
   "cell_type": "code",
   "execution_count": null,
   "id": "8c86fb5e-f881-4e88-9493-4a72e675c19b",
   "metadata": {},
   "outputs": [],
   "source": []
  }
 ],
 "metadata": {
  "kernelspec": {
   "display_name": "Python 3 (ipykernel)",
   "language": "python",
   "name": "python3"
  },
  "language_info": {
   "codemirror_mode": {
    "name": "ipython",
    "version": 3
   },
   "file_extension": ".py",
   "mimetype": "text/x-python",
   "name": "python",
   "nbconvert_exporter": "python",
   "pygments_lexer": "ipython3",
   "version": "3.13.5"
  }
 },
 "nbformat": 4,
 "nbformat_minor": 5
}
